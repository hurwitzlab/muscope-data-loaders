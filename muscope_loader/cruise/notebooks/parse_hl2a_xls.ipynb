{
 "cells": [
  {
   "cell_type": "code",
   "execution_count": null,
   "metadata": {},
   "outputs": [],
   "source": [
    "import os\n",
    "import sys\n",
    "\n",
    "import pandas as pd\n",
    "\n",
    "import muscope_loader"
   ]
  },
  {
   "cell_type": "code",
   "execution_count": null,
   "metadata": {},
   "outputs": [],
   "source": [
    "print(sys.modules['muscope_loader'].__file__)\n",
    "muscope_loader_dp = os.path.dirname(sys.modules['muscope_loader'].__file__)\n",
    "downloads_dp = os.path.join(muscope_loader_dp, 'downloads')\n",
    "hl2a_18Sdiel_xls_fp = os.path.join(downloads_dp, 'Caron_HL2A_18Sdiel_seq_attrib_v2.xls')\n",
    "\n",
    "print(hl2a_18Sdiel_xls_fp)\n",
    "os.path.exists(hl2a_18Sdiel_xls_fp)\n"
   ]
  },
  {
   "cell_type": "code",
   "execution_count": null,
   "metadata": {},
   "outputs": [],
   "source": [
    "readme_block_2_df = pd.read_excel(\n",
    "    hl2a_18Sdiel_xls_fp,\n",
    "    sheet_name='README',\n",
    "    header=22,\n",
    "    index_col='Cast #',\n",
    "    skip_rows=range(23),\n",
    "    skip_footer=5,\n",
    "    usecols=range(9, 17)\n",
    ")\n"
   ]
  },
  {
   "cell_type": "code",
   "execution_count": null,
   "metadata": {},
   "outputs": [],
   "source": [
    "readme_block_2_df.head()"
   ]
  },
  {
   "cell_type": "code",
   "execution_count": null,
   "metadata": {},
   "outputs": [],
   "source": [
    "core_attr_plus_data_df = pd.read_excel(\n",
    "    hl2a_18Sdiel_xls_fp,\n",
    "    sheet_name='core attributes + data',\n",
    "    skiprows=(0,2)\n",
    ")\n",
    "# column 10 header is on the wrong line\n",
    "column_10_header = core_attr_plus_data_df.columns[9]\n",
    "core_attr_plus_data_df.rename(columns={column_10_header: 'seq_name'}, inplace=True)\n"
   ]
  },
  {
   "cell_type": "code",
   "execution_count": null,
   "metadata": {},
   "outputs": [],
   "source": [
    "core_attr_plus_data_df.head()"
   ]
  },
  {
   "cell_type": "code",
   "execution_count": null,
   "metadata": {},
   "outputs": [],
   "source": [
    "core_attr_plus_data_df = core_attr_plus_data_df.assign(\n",
    "    file_=[os.path.join('/iplant', s) for s in core_attr_plus_data_df.seq_name])\n",
    "core_attr_plus_data_df.head()"
   ]
  },
  {
   "cell_type": "code",
   "execution_count": null,
   "metadata": {},
   "outputs": [],
   "source": [
    "import datetime"
   ]
  },
  {
   "cell_type": "code",
   "execution_count": null,
   "metadata": {},
   "outputs": [],
   "source": [
    "core_attr_plus_data_df.collection_date[0]"
   ]
  },
  {
   "cell_type": "code",
   "execution_count": null,
   "metadata": {},
   "outputs": [],
   "source": [
    "core_attr_plus_data_df.collection_time[0]"
   ]
  },
  {
   "cell_type": "code",
   "execution_count": null,
   "metadata": {},
   "outputs": [],
   "source": [
    "core_attr_plus_data_df.collection_time[0].isoformat(timespec='seconds')"
   ]
  },
  {
   "cell_type": "code",
   "execution_count": null,
   "metadata": {},
   "outputs": [],
   "source": [
    "for r, row in core_attr_plus_data_df.iterrows():\n",
    "    print(row.collection_time)\n",
    "    break"
   ]
  },
  {
   "cell_type": "code",
   "execution_count": null,
   "metadata": {},
   "outputs": [],
   "source": [
    "core_attr_plus_data_df.station = [ (s if isinstance(s, float) else float(s[1:])) for s in core_attr_plus_data_df.station]"
   ]
  },
  {
   "cell_type": "code",
   "execution_count": null,
   "metadata": {},
   "outputs": [],
   "source": [
    "core_attr_plus_data_df.head()"
   ]
  },
  {
   "cell_type": "code",
   "execution_count": null,
   "metadata": {},
   "outputs": [],
   "source": []
  }
 ],
 "metadata": {
  "language_info": {
   "name": "python",
   "pygments_lexer": "ipython3"
  }
 },
 "nbformat": 4,
 "nbformat_minor": 1
}
