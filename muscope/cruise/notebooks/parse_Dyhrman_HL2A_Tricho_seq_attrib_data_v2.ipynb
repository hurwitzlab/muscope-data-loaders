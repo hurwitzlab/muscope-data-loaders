{
 "cells": [
  {
   "cell_type": "code",
   "execution_count": null,
   "metadata": {},
   "outputs": [],
   "source": [
    "import datetime\n",
    "from itertools import zip_longest\n",
    "import os\n",
    "import re\n",
    "import sys\n",
    "\n",
    "import pandas as pd\n",
    "\n",
    "import muscope"
   ]
  },
  {
   "cell_type": "code",
   "execution_count": null,
   "metadata": {},
   "outputs": [],
   "source": [
    "print(sys.modules['muscope'].__file__)\n",
    "muscope_loader_dp = os.path.dirname(sys.modules['muscope'].__file__)\n",
    "downloads_dp = os.path.join(muscope_loader_dp, 'downloads')\n",
    "dyhrman__xls_fp = os.path.join(downloads_dp, 'Dyhrman_HL2A_Tricho_seq_attrib_v2.xls')\n",
    "\n",
    "print(dyhrman__xls_fp)\n",
    "os.path.exists(dyhrman__xls_fp)\n"
   ]
  },
  {
   "cell_type": "code",
   "execution_count": null,
   "metadata": {},
   "outputs": [],
   "source": [
    "def grouper(iterable, n, fillvalue=None):\n",
    "    \"Collect data into fixed-length chunks or blocks\"\n",
    "    # grouper('ABCDEFG', 3, 'x') --> ABC DEF Gxx\"\n",
    "    args = [iter(iterable)] * n\n",
    "    return zip_longest(*args, fillvalue=fillvalue)\n"
   ]
  },
  {
   "cell_type": "code",
   "execution_count": null,
   "metadata": {},
   "outputs": [],
   "source": [
    "core_attr_plus_data_df = pd.read_excel(\n",
    "    dyhrman__xls_fp,\n",
    "    sheet_name='core attributes + data',\n",
    "    skiprows=(0,2)\n",
    ")\n",
    "\n",
    "for (r1, row1), (r2, row2) in grouper(core_attr_plus_data_df.iterrows(), n=2):\n",
    "    # set station and cast to 0\n",
    "    core_attr_plus_data_df.loc[r1, 'station'] = 0\n",
    "    core_attr_plus_data_df.loc[r1, 'cast_num'] = 0\n",
    "    core_attr_plus_data_df.loc[r2, 'station'] = 0\n",
    "    core_attr_plus_data_df.loc[r2, 'cast_num'] = 0\n",
    "    \n",
    "    # append .gz to file names\n",
    "    if str(row1.seq_name).endswith('.fastq'):\n",
    "        core_attr_plus_data_df.loc[r1, 'seq_name'] = row1.seq_name + '.gz'\n",
    "    else:\n",
    "        pass\n",
    "    if str(row2.seq_name).endswith('.fastq'):\n",
    "        core_attr_plus_data_df.loc[r2, 'seq_name'] = row2.seq_name + '.gz'\n",
    "    else:\n",
    "        pass\n",
    "\n",
    "    if core_attr_plus_data_df.loc[r1, 'data_type'] == 'reads':\n",
    "        core_attr_plus_data_df.loc[r1, 'data_type'] = 'Reads'\n",
    "    else:\n",
    "        raise Exception()\n",
    "    if core_attr_plus_data_df.loc[r2, 'data_type'] == 'reads':\n",
    "        core_attr_plus_data_df.loc[r2, 'data_type'] = 'Reads'\n",
    "    else:\n",
    "        raise Exception()\n",
    "\n",
    "    # copy attributes from previous sample ONLY IF THE ATTRIBUTE IS EMPTY\n",
    "    column_names = list(core_attr_plus_data_df.columns)\n",
    "    for attr_name in column_names:\n",
    "        #print('row {} attr \"{}\" is \"{}\"'.format(r3, attr_name, core_attr_plus_data_df.loc[r3, attr_name]))\n",
    "        if str(core_attr_plus_data_df.loc[r1, attr_name]) in ('nan', 'NaT') and r1 > 0:\n",
    "            #print('  copy \"{}\" from previous sample'.format(core_attr_plus_data_df.loc[r1, attr_name]))\n",
    "            core_attr_plus_data_df.loc[r1, attr_name] = core_attr_plus_data_df.loc[r1 - 2, attr_name]\n",
    "        else:\n",
    "            pass\n",
    "\n",
    "# convert to decimal degrees\n",
    "for (r1, row1), (r2, row2) in grouper(core_attr_plus_data_df.iterrows(), n=2):\n",
    "    #print(core_attr_plus_data_df.loc[r1, 'latitude'])\n",
    "    lat1, lat2 = core_attr_plus_data_df.loc[r1, 'latitude'].split()\n",
    "    core_attr_plus_data_df.loc[r1, 'latitude'] = float(lat1) + (float(lat2) / 60)\n",
    "\n",
    "    lon1, lon2 = core_attr_plus_data_df.loc[r1, 'longitude'].split()\n",
    "    core_attr_plus_data_df.loc[r1, 'longitude'] = -1.0 * float(lon1) + (float(lon2) / 60)\n",
    "\n",
    "# these start out empty but get filled in by the attribute copy loop above\n",
    "core_attr_plus_data_df.loc[12, 'latitude'] = None\n",
    "core_attr_plus_data_df.loc[12, 'longitude'] = None\n",
    "core_attr_plus_data_df.loc[14, 'latitude'] = None\n",
    "core_attr_plus_data_df.loc[14, 'longitude'] = None\n",
    "\n",
    "core_attr_plus_data_df"
   ]
  },
  {
   "cell_type": "code",
   "execution_count": null,
   "metadata": {},
   "outputs": [],
   "source": []
  }
 ],
 "metadata": {
  "language_info": {
   "name": "python",
   "pygments_lexer": "ipython3"
  }
 },
 "nbformat": 4,
 "nbformat_minor": 2
}
