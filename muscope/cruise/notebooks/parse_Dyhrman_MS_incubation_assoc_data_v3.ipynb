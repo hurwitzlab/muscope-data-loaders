{
 "cells": [
  {
   "cell_type": "code",
   "execution_count": null,
   "metadata": {},
   "outputs": [],
   "source": [
    "import datetime\n",
    "from itertools import zip_longest\n",
    "import os\n",
    "import re\n",
    "import sys\n",
    "\n",
    "import pandas as pd\n",
    "\n",
    "import muscope"
   ]
  },
  {
   "cell_type": "code",
   "execution_count": null,
   "metadata": {},
   "outputs": [],
   "source": [
    "print(sys.modules['muscope'].__file__)\n",
    "muscope_loader_dp = os.path.dirname(sys.modules['muscope'].__file__)\n",
    "downloads_dp = os.path.join(muscope_loader_dp, 'downloads')\n",
    "dyhrman__xls_fp = os.path.join(downloads_dp, 'Dyhrman_MS_incubation_assoc_data_v3.xls')\n",
    "\n",
    "print(dyhrman__xls_fp)\n",
    "os.path.exists(dyhrman__xls_fp)\n"
   ]
  },
  {
   "cell_type": "code",
   "execution_count": null,
   "metadata": {},
   "outputs": [],
   "source": [
    "def grouper(iterable, n, fillvalue=None):\n",
    "    \"Collect data into fixed-length chunks or blocks\"\n",
    "    # grouper('ABCDEFG', 3, 'x') --> ABC DEF Gxx\"\n",
    "    args = [iter(iterable)] * n\n",
    "    return zip_longest(*args, fillvalue=fillvalue)\n"
   ]
  },
  {
   "cell_type": "code",
   "execution_count": null,
   "metadata": {},
   "outputs": [],
   "source": [
    "core_attr_plus_data_df = pd.read_excel(\n",
    "    dyhrman__xls_fp,\n",
    "    sheet_name='core attributes + data',\n",
    "    skiprows=(0,2)\n",
    ")\n",
    "\n",
    "# 2 related samples appear in groups of 4 rows\n",
    "# the first sample is usually \"mRNA\"\n",
    "# the second sample is usually \"totalRNA\"\n",
    "\n",
    "# parse time strings such as '12:45:00' and '1245'\n",
    "# the first 3 collection times are datetime objects, the remaining collection times are just strings like \"1205\"\n",
    "time_re = re.compile(r'^(?P<hour>\\d{1,2}):?(?P<minute>\\d{1,2})(:(?P<second>)\\d{1,2})?$')\n",
    "\n",
    "for (r1, row1), (r2, row2), (r3, row3), (r4, row4) in grouper(core_attr_plus_data_df.iterrows(), n=4):\n",
    "    # change the cruise name to MESO-SCOPE\n",
    "    core_attr_plus_data_df.loc[r1, 'cruise_name'] = 'MESO-SCOPE'\n",
    "    #core_attr_plus_data_df.loc[r3, 'cruise_name'] = 'MESO-SCOPE'\n",
    "\n",
    "    if row1.data_type == 'mRNA reads':\n",
    "        core_attr_plus_data_df.loc[r1, 'data_type'] = 'mRNA Reads'\n",
    "    else:\n",
    "        raise Exception()\n",
    "    if row3.data_type == 'total RNA reads':\n",
    "        core_attr_plus_data_df.loc[r3, 'data_type'] = 'Total RNA Reads'\n",
    "    else:\n",
    "        raise Exception()\n",
    "\n",
    "    # convert the strings in collection_time to datetime.time objects\n",
    "    ##print('\"{}\"'.format(row1.collection_time))\n",
    "    collection_time_match = time_re.search(str(row1.collection_time))\n",
    "    core_attr_plus_data_df.loc[row1.name, 'collection_time'] = datetime.time(\n",
    "        hour=int(collection_time_match.group('hour')),\n",
    "        minute=int(collection_time_match.group('minute')))\n",
    "    \n",
    "    # copy attributes from previous sample ONLY IF THE ATTRIBUTE IS EMPTY\n",
    "    column_names = list(core_attr_plus_data_df.columns)\n",
    "    for attr_name in column_names:\n",
    "        print('row {} attr \"{}\" is \"{}\"'.format(r3, attr_name, core_attr_plus_data_df.loc[r3, attr_name]))\n",
    "        if str(core_attr_plus_data_df.loc[r3, attr_name]) in ('nan', 'NaT'):\n",
    "            print('  copy \"{}\" from previous sample'.format(core_attr_plus_data_df.loc[r1, attr_name]))\n",
    "            core_attr_plus_data_df.loc[r3, attr_name] = core_attr_plus_data_df.loc[r1, attr_name]\n",
    "        else:\n",
    "            pass\n",
    "\n",
    "core_attr_plus_data_df"
   ]
  },
  {
   "cell_type": "code",
   "execution_count": null,
   "metadata": {},
   "outputs": [],
   "source": []
  }
 ],
 "metadata": {
  "language_info": {
   "name": "python",
   "pygments_lexer": "ipython3"
  }
 },
 "nbformat": 4,
 "nbformat_minor": 2
}
