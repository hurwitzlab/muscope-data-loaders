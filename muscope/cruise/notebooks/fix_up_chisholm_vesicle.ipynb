{
 "cells": [
  {
   "cell_type": "code",
   "execution_count": null,
   "metadata": {},
   "outputs": [],
   "source": [
    "import os\n",
    "import re\n",
    "import sys\n",
    "\n",
    "import pandas as pd\n",
    "\n",
    "import muscope_loader"
   ]
  },
  {
   "cell_type": "code",
   "execution_count": null,
   "metadata": {},
   "outputs": [],
   "source": [
    "print(sys.modules['muscope_loader'].__file__)\n",
    "muscope_loader_dp = os.path.dirname(sys.modules['muscope_loader'].__file__)\n",
    "downloads_dp = os.path.join(muscope_loader_dp, 'downloads')\n",
    "hl2a_chisholm_vesicle_xls_fp = os.path.join(downloads_dp, 'Chisholm_HOT263.283_Vesicle_seq_attrib.xls')\n",
    "\n",
    "print(hl2a_chisholm_vesicle_xls_fp)\n",
    "os.path.exists(hl2a_chisholm_vesicle_xls_fp)\n"
   ]
  },
  {
   "cell_type": "code",
   "execution_count": null,
   "metadata": {},
   "outputs": [],
   "source": [
    "core_attr_plus_data_df = pd.read_excel(\n",
    "    hl2a_chisholm_vesicle_xls_fp,\n",
    "    sheet_name='core attributes + data',\n",
    "    skiprows=(0,2)\n",
    ")\n",
    "# derive a new sample_name column from seq_name like \n",
    "#  161013Chi_D16-10856_1_sequence.fastq.gz\n",
    "# where 10856 is the sample name\n",
    "sample_name_re = re.compile(r'^\\d+Chi_D\\d+-(?P<sample_name>\\d+)_\\d_sequence.fastq.gz$')\n",
    "core_attr_plus_data_df.rename(columns={'sample_name': 'sample_desc'}, inplace=True)\n",
    "new_sample_name = []\n",
    "for r, row in core_attr_plus_data_df.iterrows():\n",
    "    if str(row.sample_desc) == 'nan':\n",
    "        new_sample_name.append(float('NaN'))\n",
    "    else:\n",
    "        new_sample_name.append(sample_name_re.search(row.seq_name).group('sample_name'))\n",
    "core_attr_plus_data_df['sample_name'] = new_sample_name\n",
    "core_attr_plus_data_df"
   ]
  },
  {
   "cell_type": "code",
   "execution_count": null,
   "metadata": {},
   "outputs": [],
   "source": []
  }
 ],
 "metadata": {
  "language_info": {
   "name": "python",
   "pygments_lexer": "ipython3"
  }
 },
 "nbformat": 4,
 "nbformat_minor": 2
}
