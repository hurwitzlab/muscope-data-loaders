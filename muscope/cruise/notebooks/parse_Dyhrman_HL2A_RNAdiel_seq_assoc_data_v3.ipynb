{
 "cells": [
  {
   "cell_type": "code",
   "execution_count": null,
   "metadata": {},
   "outputs": [],
   "source": [
    "import datetime\n",
    "from itertools import zip_longest\n",
    "import os\n",
    "import re\n",
    "import sys\n",
    "\n",
    "import pandas as pd\n",
    "\n",
    "import muscope"
   ]
  },
  {
   "cell_type": "code",
   "execution_count": null,
   "metadata": {},
   "outputs": [],
   "source": [
    "print(sys.modules['muscope'].__file__)\n",
    "muscope_loader_dp = os.path.dirname(sys.modules['muscope'].__file__)\n",
    "downloads_dp = os.path.join(muscope_loader_dp, 'downloads')\n",
    "dyhrman__xls_fp = os.path.join(downloads_dp, 'Dyhrman_HL2A_RNAdiel_seq_assoc_data_v3.xlsx')\n",
    "\n",
    "print(dyhrman__xls_fp)\n",
    "os.path.exists(dyhrman__xls_fp)\n"
   ]
  },
  {
   "cell_type": "code",
   "execution_count": null,
   "metadata": {},
   "outputs": [],
   "source": [
    "def grouper(iterable, n, fillvalue=None):\n",
    "    \"Collect data into fixed-length chunks or blocks\"\n",
    "    # grouper('ABCDEFG', 3, 'x') --> ABC DEF Gxx\"\n",
    "    args = [iter(iterable)] * n\n",
    "    return zip_longest(*args, fillvalue=fillvalue)\n"
   ]
  },
  {
   "cell_type": "code",
   "execution_count": null,
   "metadata": {},
   "outputs": [],
   "source": [
    "core_attr_plus_data_df = pd.read_excel(\n",
    "    dyhrman__xls_fp,\n",
    "    sheet_name='core attributes + data',\n",
    "    skiprows=(0,2)\n",
    ")\n",
    "\n",
    "column_headers = list(core_attr_plus_data_df.columns)\n",
    "n = column_headers.index('gene_name')\n",
    "column_headers[n] = 'data_type'\n",
    "core_attr_plus_data_df.columns = column_headers\n",
    "\n",
    "for (r1, row1), (r2, row2), (r3, row3), (r4, row4) in grouper(core_attr_plus_data_df.iterrows(), n=4):\n",
    "    # remove .fastq.tar from sample names\n",
    "    if str(row1.sample_name).endswith('.fastq.tar'):\n",
    "        core_attr_plus_data_df.loc[r1, 'sample_name'] = row1.sample_name[:-10]\n",
    "    else:\n",
    "        pass\n",
    "\n",
    "    if row1.data_type == 'mRNA':\n",
    "        core_attr_plus_data_df.loc[r1, 'data_type'] = 'mRNA Reads'\n",
    "    else:\n",
    "        raise Exception()\n",
    "    if row3.data_type == 'total RNA':\n",
    "        core_attr_plus_data_df.loc[r3, 'data_type'] = 'Total RNA Reads'\n",
    "    else:\n",
    "        raise Exception()\n",
    "\n",
    "    # append .gz to file names\n",
    "    if str(row1.seq_name).endswith('.fastq'):\n",
    "        core_attr_plus_data_df.loc[r1, 'seq_name'] = row1.seq_name + '.gz'\n",
    "    else:\n",
    "        pass\n",
    "    if str(row2.seq_name).endswith('.fastq'):\n",
    "        core_attr_plus_data_df.loc[r2, 'seq_name'] = row2.seq_name + '.gz'\n",
    "    else:\n",
    "        pass\n",
    "    if str(row3.seq_name).endswith('.fastq'):\n",
    "        core_attr_plus_data_df.loc[r3, 'seq_name'] = row3.seq_name + '.gz'\n",
    "    else:\n",
    "        pass\n",
    "    if str(row4.seq_name).endswith('.fastq'):\n",
    "        core_attr_plus_data_df.loc[r4, 'seq_name'] = row4.seq_name + '.gz'\n",
    "    else:\n",
    "        pass\n",
    "\n",
    "    # copy attributes from previous sample ONLY IF THE ATTRIBUTE IS EMPTY\n",
    "    column_names = list(core_attr_plus_data_df.columns)\n",
    "    for attr_name in column_names:\n",
    "        #print('row {} attr \"{}\" is \"{}\"'.format(r3, attr_name, core_attr_plus_data_df.loc[r3, attr_name]))\n",
    "        if str(core_attr_plus_data_df.loc[r3, attr_name]) in ('nan', 'NaT'):\n",
    "            #print('  copy \"{}\" from previous sample'.format(core_attr_plus_data_df.loc[r1, attr_name]))\n",
    "            core_attr_plus_data_df.loc[r3, attr_name] = core_attr_plus_data_df.loc[r1, attr_name]\n",
    "        else:\n",
    "            pass\n",
    "\n",
    "core_attr_plus_data_df"
   ]
  },
  {
   "cell_type": "code",
   "execution_count": null,
   "metadata": {},
   "outputs": [],
   "source": []
  }
 ],
 "metadata": {
  "language_info": {
   "name": "python",
   "pygments_lexer": "ipython3"
  }
 },
 "nbformat": 4,
 "nbformat_minor": 2
}
