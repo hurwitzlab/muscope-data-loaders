{
 "cells": [
  {
   "cell_type": "code",
   "execution_count": null,
   "metadata": {},
   "outputs": [],
   "source": [
    "from itertools import zip_longest\n",
    "import os\n",
    "import sys\n",
    "\n",
    "import pandas as pd\n",
    "\n",
    "import muscope"
   ]
  },
  {
   "cell_type": "code",
   "execution_count": null,
   "metadata": {},
   "outputs": [],
   "source": [
    "print(sys.modules['muscope'].__file__)\n",
    "muscope_dp = os.path.dirname(sys.modules['muscope'].__file__)\n",
    "downloads_dp = os.path.join(muscope_dp, 'downloads')\n",
    "caron_hl2a_vertprof_seq_attr_xls_fp = os.path.join(downloads_dp, 'Caron_HL2A_VertProf_seq_attrib_v3.xls')\n",
    "\n",
    "print(caron_hl2a_vertprof_seq_attr_xls_fp)\n",
    "os.path.exists(caron_hl2a_vertprof_seq_attr_xls_fp)\n"
   ]
  },
  {
   "cell_type": "code",
   "execution_count": null,
   "metadata": {},
   "outputs": [],
   "source": [
    "core_attr_plus_data_df = pd.read_excel(\n",
    "    caron_hl2a_vertprof_seq_attr_xls_fp,\n",
    "    sheet_name='core attributes + data',\n",
    "    skiprows=(0,2)\n",
    ")\n",
    "## column 10 header is on the wrong line\n",
    "##column_10_header = core_attr_plus_data_df.columns[9]\n",
    "##core_attr_plus_data_df.rename(columns={column_10_header: 'seq_name'}, inplace=True)\n"
   ]
  },
  {
   "cell_type": "code",
   "execution_count": null,
   "metadata": {},
   "outputs": [],
   "source": [
    "core_attr_plus_data_df.head()"
   ]
  },
  {
   "cell_type": "code",
   "execution_count": null,
   "metadata": {},
   "outputs": [],
   "source": [
    "core_attr_plus_data_df = core_attr_plus_data_df.assign(\n",
    "    file_=[os.path.join('/iplant', s) for s in core_attr_plus_data_df.seq_name])\n",
    "core_attr_plus_data_df.head()"
   ]
  },
  {
   "cell_type": "code",
   "execution_count": null,
   "metadata": {},
   "outputs": [],
   "source": [
    "import datetime"
   ]
  },
  {
   "cell_type": "code",
   "execution_count": null,
   "metadata": {},
   "outputs": [],
   "source": [
    "core_attr_plus_data_df.collection_date[0]"
   ]
  },
  {
   "cell_type": "code",
   "execution_count": null,
   "metadata": {},
   "outputs": [],
   "source": [
    "core_attr_plus_data_df.collection_time[0]"
   ]
  },
  {
   "cell_type": "code",
   "execution_count": null,
   "metadata": {},
   "outputs": [],
   "source": [
    "core_attr_plus_data_df.collection_time[0].isoformat(timespec='seconds')"
   ]
  },
  {
   "cell_type": "code",
   "execution_count": null,
   "metadata": {},
   "outputs": [],
   "source": [
    "for r, row in core_attr_plus_data_df.iterrows():\n",
    "    print(row.collection_time)\n",
    "    break"
   ]
  },
  {
   "cell_type": "code",
   "execution_count": null,
   "metadata": {},
   "outputs": [],
   "source": [
    "core_attr_plus_data_df.station = [ (s if isinstance(s, float) else float(s[1:])) for s in core_attr_plus_data_df.station]"
   ]
  },
  {
   "cell_type": "code",
   "execution_count": null,
   "metadata": {},
   "outputs": [],
   "source": [
    "core_attr_plus_data_df.head()"
   ]
  },
  {
   "cell_type": "code",
   "execution_count": null,
   "metadata": {},
   "outputs": [],
   "source": [
    "def grouper(iterable, n, fillvalue=None):\n",
    "    \"Collect data into fixed-length chunks or blocks\"\n",
    "    # grouper('ABCDEFG', 3, 'x') --> ABC DEF Gxx\"\n",
    "    args = [iter(iterable)] * n\n",
    "    return zip_longest(*args, fillvalue=fillvalue)"
   ]
  },
  {
   "cell_type": "code",
   "execution_count": null,
   "metadata": {},
   "outputs": [],
   "source": [
    "for (r1, row1), (r2, row2) in grouper(core_attr_plus_data_df.iterrows(), n=2):\n",
    "    if r1 == 0:\n",
    "        # skip row 0\n",
    "        pass\n",
    "    else:\n",
    "        # copy attributes from previous sample ONLY IF THE ATTRIBUTE IS EMPTY\n",
    "        column_names = list(core_attr_plus_data_df.columns)\n",
    "        for attr_name in column_names:\n",
    "            print('row {} attr \"{}\" is \"{}\"'.format(r1, attr_name, core_attr_plus_data_df.loc[r1, attr_name]))\n",
    "            if str(core_attr_plus_data_df.loc[r1, attr_name]) in ('nan', 'NaT'):\n",
    "                print('  copy \"{}\" from previous sample'.format(core_attr_plus_data_df.loc[r1-2, attr_name]))\n",
    "                core_attr_plus_data_df.loc[r1, attr_name] = core_attr_plus_data_df.loc[r1-2, attr_name]\n",
    "            else:\n",
    "                pass\n",
    "    \n",
    "core_attr_plus_data_df"
   ]
  },
  {
   "cell_type": "code",
   "execution_count": null,
   "metadata": {},
   "outputs": [],
   "source": [
    "core_attr_plus_data_df.head()"
   ]
  },
  {
   "cell_type": "code",
   "execution_count": null,
   "metadata": {},
   "outputs": [],
   "source": []
  }
 ],
 "metadata": {
  "language_info": {
   "name": "python",
   "pygments_lexer": "ipython3"
  }
 },
 "nbformat": 4,
 "nbformat_minor": 1
}
